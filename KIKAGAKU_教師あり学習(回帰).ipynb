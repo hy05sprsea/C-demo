{
  "nbformat": 4,
  "nbformat_minor": 0,
  "metadata": {
    "colab": {
      "name": "KIKAGAKU-教師あり学習(回帰).ipynb",
      "provenance": [],
      "toc_visible": true,
      "authorship_tag": "ABX9TyPA/Ddx0aMD5yAdKCdDxqMd",
      "include_colab_link": true
    },
    "kernelspec": {
      "name": "python3",
      "display_name": "Python 3"
    }
  },
  "cells": [
    {
      "cell_type": "markdown",
      "metadata": {
        "id": "view-in-github",
        "colab_type": "text"
      },
      "source": [
        "<a href=\"https://colab.research.google.com/github/hy05sprsea/C-demo/blob/master/KIKAGAKU_%E6%95%99%E5%B8%AB%E3%81%82%E3%82%8A%E5%AD%A6%E7%BF%92(%E5%9B%9E%E5%B8%B0).ipynb\" target=\"_parent\"><img src=\"https://colab.research.google.com/assets/colab-badge.svg\" alt=\"Open In Colab\"/></a>"
      ]
    },
    {
      "cell_type": "markdown",
      "metadata": {
        "id": "Ai1ixt5DSBFb",
        "colab_type": "text"
      },
      "source": [
        "# **重回帰分析の実装**"
      ]
    },
    {
      "cell_type": "code",
      "metadata": {
        "id": "sq6mHXO8Qxuv",
        "colab_type": "code",
        "colab": {
          "base_uri": "https://localhost:8080/",
          "height": 54
        },
        "outputId": "1ae89828-f7ec-427f-acd1-a5f3c304c0cb"
      },
      "source": [
        "import numpy as np\n",
        "import pandas as pd\n",
        "import matplotlib.pyplot as plt\n",
        "import seaborn as sns"
      ],
      "execution_count": 4,
      "outputs": [
        {
          "output_type": "stream",
          "text": [
            "/usr/local/lib/python3.6/dist-packages/statsmodels/tools/_testing.py:19: FutureWarning: pandas.util.testing is deprecated. Use the functions in the public API at pandas.testing instead.\n",
            "  import pandas.util.testing as tm\n"
          ],
          "name": "stderr"
        }
      ]
    },
    {
      "cell_type": "code",
      "metadata": {
        "id": "BcWLJn9qSIlO",
        "colab_type": "code",
        "colab": {}
      },
      "source": [
        "# データセットの読み込み\n",
        "from sklearn.datasets import load_boston\n",
        "dataset = load_boston()\n",
        "x, t = dataset.data, dataset.target\n",
        "columns = dataset.feature_names"
      ],
      "execution_count": 6,
      "outputs": []
    },
    {
      "cell_type": "code",
      "metadata": {
        "id": "LZtbufHiSKW1",
        "colab_type": "code",
        "colab": {
          "base_uri": "https://localhost:8080/",
          "height": 35
        },
        "outputId": "b18c5267-0e93-47ab-b2a8-28292b3e68e0"
      },
      "source": [
        "type(x), x.shape, type(t), t.shape"
      ],
      "execution_count": 7,
      "outputs": [
        {
          "output_type": "execute_result",
          "data": {
            "text/plain": [
              "(numpy.ndarray, (506, 13), numpy.ndarray, (506,))"
            ]
          },
          "metadata": {
            "tags": []
          },
          "execution_count": 7
        }
      ]
    },
    {
      "cell_type": "code",
      "metadata": {
        "id": "QeXN7IA2SO-s",
        "colab_type": "code",
        "colab": {
          "base_uri": "https://localhost:8080/",
          "height": 138
        },
        "outputId": "1cd4a8d9-0495-42a1-e2da-b86e681b809f"
      },
      "source": [
        "df = pd.DataFrame(x, columns=columns)\n",
        "df.head(3)"
      ],
      "execution_count": 8,
      "outputs": [
        {
          "output_type": "execute_result",
          "data": {
            "text/html": [
              "<div>\n",
              "<style scoped>\n",
              "    .dataframe tbody tr th:only-of-type {\n",
              "        vertical-align: middle;\n",
              "    }\n",
              "\n",
              "    .dataframe tbody tr th {\n",
              "        vertical-align: top;\n",
              "    }\n",
              "\n",
              "    .dataframe thead th {\n",
              "        text-align: right;\n",
              "    }\n",
              "</style>\n",
              "<table border=\"1\" class=\"dataframe\">\n",
              "  <thead>\n",
              "    <tr style=\"text-align: right;\">\n",
              "      <th></th>\n",
              "      <th>CRIM</th>\n",
              "      <th>ZN</th>\n",
              "      <th>INDUS</th>\n",
              "      <th>CHAS</th>\n",
              "      <th>NOX</th>\n",
              "      <th>RM</th>\n",
              "      <th>AGE</th>\n",
              "      <th>DIS</th>\n",
              "      <th>RAD</th>\n",
              "      <th>TAX</th>\n",
              "      <th>PTRATIO</th>\n",
              "      <th>B</th>\n",
              "      <th>LSTAT</th>\n",
              "    </tr>\n",
              "  </thead>\n",
              "  <tbody>\n",
              "    <tr>\n",
              "      <th>0</th>\n",
              "      <td>0.00632</td>\n",
              "      <td>18.0</td>\n",
              "      <td>2.31</td>\n",
              "      <td>0.0</td>\n",
              "      <td>0.538</td>\n",
              "      <td>6.575</td>\n",
              "      <td>65.2</td>\n",
              "      <td>4.0900</td>\n",
              "      <td>1.0</td>\n",
              "      <td>296.0</td>\n",
              "      <td>15.3</td>\n",
              "      <td>396.90</td>\n",
              "      <td>4.98</td>\n",
              "    </tr>\n",
              "    <tr>\n",
              "      <th>1</th>\n",
              "      <td>0.02731</td>\n",
              "      <td>0.0</td>\n",
              "      <td>7.07</td>\n",
              "      <td>0.0</td>\n",
              "      <td>0.469</td>\n",
              "      <td>6.421</td>\n",
              "      <td>78.9</td>\n",
              "      <td>4.9671</td>\n",
              "      <td>2.0</td>\n",
              "      <td>242.0</td>\n",
              "      <td>17.8</td>\n",
              "      <td>396.90</td>\n",
              "      <td>9.14</td>\n",
              "    </tr>\n",
              "    <tr>\n",
              "      <th>2</th>\n",
              "      <td>0.02729</td>\n",
              "      <td>0.0</td>\n",
              "      <td>7.07</td>\n",
              "      <td>0.0</td>\n",
              "      <td>0.469</td>\n",
              "      <td>7.185</td>\n",
              "      <td>61.1</td>\n",
              "      <td>4.9671</td>\n",
              "      <td>2.0</td>\n",
              "      <td>242.0</td>\n",
              "      <td>17.8</td>\n",
              "      <td>392.83</td>\n",
              "      <td>4.03</td>\n",
              "    </tr>\n",
              "  </tbody>\n",
              "</table>\n",
              "</div>"
            ],
            "text/plain": [
              "      CRIM    ZN  INDUS  CHAS    NOX  ...  RAD    TAX  PTRATIO       B  LSTAT\n",
              "0  0.00632  18.0   2.31   0.0  0.538  ...  1.0  296.0     15.3  396.90   4.98\n",
              "1  0.02731   0.0   7.07   0.0  0.469  ...  2.0  242.0     17.8  396.90   9.14\n",
              "2  0.02729   0.0   7.07   0.0  0.469  ...  2.0  242.0     17.8  392.83   4.03\n",
              "\n",
              "[3 rows x 13 columns]"
            ]
          },
          "metadata": {
            "tags": []
          },
          "execution_count": 8
        }
      ]
    },
    {
      "cell_type": "code",
      "metadata": {
        "id": "XIMe6uk4SQdy",
        "colab_type": "code",
        "colab": {
          "base_uri": "https://localhost:8080/",
          "height": 138
        },
        "outputId": "685534cd-0e11-480e-ab5f-875bb6de6e03"
      },
      "source": [
        "df['Target'] = t\n",
        "df.head(3)"
      ],
      "execution_count": 9,
      "outputs": [
        {
          "output_type": "execute_result",
          "data": {
            "text/html": [
              "<div>\n",
              "<style scoped>\n",
              "    .dataframe tbody tr th:only-of-type {\n",
              "        vertical-align: middle;\n",
              "    }\n",
              "\n",
              "    .dataframe tbody tr th {\n",
              "        vertical-align: top;\n",
              "    }\n",
              "\n",
              "    .dataframe thead th {\n",
              "        text-align: right;\n",
              "    }\n",
              "</style>\n",
              "<table border=\"1\" class=\"dataframe\">\n",
              "  <thead>\n",
              "    <tr style=\"text-align: right;\">\n",
              "      <th></th>\n",
              "      <th>CRIM</th>\n",
              "      <th>ZN</th>\n",
              "      <th>INDUS</th>\n",
              "      <th>CHAS</th>\n",
              "      <th>NOX</th>\n",
              "      <th>RM</th>\n",
              "      <th>AGE</th>\n",
              "      <th>DIS</th>\n",
              "      <th>RAD</th>\n",
              "      <th>TAX</th>\n",
              "      <th>PTRATIO</th>\n",
              "      <th>B</th>\n",
              "      <th>LSTAT</th>\n",
              "      <th>Target</th>\n",
              "    </tr>\n",
              "  </thead>\n",
              "  <tbody>\n",
              "    <tr>\n",
              "      <th>0</th>\n",
              "      <td>0.00632</td>\n",
              "      <td>18.0</td>\n",
              "      <td>2.31</td>\n",
              "      <td>0.0</td>\n",
              "      <td>0.538</td>\n",
              "      <td>6.575</td>\n",
              "      <td>65.2</td>\n",
              "      <td>4.0900</td>\n",
              "      <td>1.0</td>\n",
              "      <td>296.0</td>\n",
              "      <td>15.3</td>\n",
              "      <td>396.90</td>\n",
              "      <td>4.98</td>\n",
              "      <td>24.0</td>\n",
              "    </tr>\n",
              "    <tr>\n",
              "      <th>1</th>\n",
              "      <td>0.02731</td>\n",
              "      <td>0.0</td>\n",
              "      <td>7.07</td>\n",
              "      <td>0.0</td>\n",
              "      <td>0.469</td>\n",
              "      <td>6.421</td>\n",
              "      <td>78.9</td>\n",
              "      <td>4.9671</td>\n",
              "      <td>2.0</td>\n",
              "      <td>242.0</td>\n",
              "      <td>17.8</td>\n",
              "      <td>396.90</td>\n",
              "      <td>9.14</td>\n",
              "      <td>21.6</td>\n",
              "    </tr>\n",
              "    <tr>\n",
              "      <th>2</th>\n",
              "      <td>0.02729</td>\n",
              "      <td>0.0</td>\n",
              "      <td>7.07</td>\n",
              "      <td>0.0</td>\n",
              "      <td>0.469</td>\n",
              "      <td>7.185</td>\n",
              "      <td>61.1</td>\n",
              "      <td>4.9671</td>\n",
              "      <td>2.0</td>\n",
              "      <td>242.0</td>\n",
              "      <td>17.8</td>\n",
              "      <td>392.83</td>\n",
              "      <td>4.03</td>\n",
              "      <td>34.7</td>\n",
              "    </tr>\n",
              "  </tbody>\n",
              "</table>\n",
              "</div>"
            ],
            "text/plain": [
              "      CRIM    ZN  INDUS  CHAS    NOX  ...    TAX  PTRATIO       B  LSTAT  Target\n",
              "0  0.00632  18.0   2.31   0.0  0.538  ...  296.0     15.3  396.90   4.98    24.0\n",
              "1  0.02731   0.0   7.07   0.0  0.469  ...  242.0     17.8  396.90   9.14    21.6\n",
              "2  0.02729   0.0   7.07   0.0  0.469  ...  242.0     17.8  392.83   4.03    34.7\n",
              "\n",
              "[3 rows x 14 columns]"
            ]
          },
          "metadata": {
            "tags": []
          },
          "execution_count": 9
        }
      ]
    },
    {
      "cell_type": "code",
      "metadata": {
        "id": "DeWfiXAOSR0I",
        "colab_type": "code",
        "colab": {}
      },
      "source": [
        "# 入力変数と目的変数の切り分け\n",
        "t = df['Target'].values\n",
        "x = df.drop(labels=['Target'], axis=1).values"
      ],
      "execution_count": 10,
      "outputs": []
    },
    {
      "cell_type": "code",
      "metadata": {
        "id": "YUOeYx_CSUeq",
        "colab_type": "code",
        "colab": {}
      },
      "source": [
        "from sklearn.model_selection import train_test_split"
      ],
      "execution_count": 11,
      "outputs": []
    },
    {
      "cell_type": "code",
      "metadata": {
        "id": "bbMygw_NSWlV",
        "colab_type": "code",
        "colab": {}
      },
      "source": [
        "# 2 つに分割\n",
        "x_train, x_test, t_train, t_test = train_test_split(x, t, test_size=0.3, random_state=0)"
      ],
      "execution_count": 12,
      "outputs": []
    },
    {
      "cell_type": "code",
      "metadata": {
        "id": "-lRU9aePSYod",
        "colab_type": "code",
        "colab": {}
      },
      "source": [
        "# モデルの定義\n",
        "from sklearn.linear_model import LinearRegression\n",
        "model = LinearRegression()"
      ],
      "execution_count": 13,
      "outputs": []
    },
    {
      "cell_type": "code",
      "metadata": {
        "id": "LXlgEw3_Sb_I",
        "colab_type": "code",
        "colab": {
          "base_uri": "https://localhost:8080/",
          "height": 35
        },
        "outputId": "cb7fb499-6c54-413a-a71f-97d59a3d3a5b"
      },
      "source": [
        "# モデルの学習\n",
        "model.fit(x_train, t_train)"
      ],
      "execution_count": 14,
      "outputs": [
        {
          "output_type": "execute_result",
          "data": {
            "text/plain": [
              "LinearRegression(copy_X=True, fit_intercept=True, n_jobs=None, normalize=False)"
            ]
          },
          "metadata": {
            "tags": []
          },
          "execution_count": 14
        }
      ]
    },
    {
      "cell_type": "code",
      "metadata": {
        "id": "c-lQn-TjSese",
        "colab_type": "code",
        "colab": {
          "base_uri": "https://localhost:8080/",
          "height": 90
        },
        "outputId": "6754ae4b-700b-4b2b-96c6-4aa0c814d88c"
      },
      "source": [
        "# 学習後のパラメータ w \n",
        "model.coef_"
      ],
      "execution_count": 15,
      "outputs": [
        {
          "output_type": "execute_result",
          "data": {
            "text/plain": [
              "array([-1.21310401e-01,  4.44664254e-02,  1.13416945e-02,  2.51124642e+00,\n",
              "       -1.62312529e+01,  3.85906801e+00, -9.98516565e-03, -1.50026956e+00,\n",
              "        2.42143466e-01, -1.10716124e-02, -1.01775264e+00,  6.81446545e-03,\n",
              "       -4.86738066e-01])"
            ]
          },
          "metadata": {
            "tags": []
          },
          "execution_count": 15
        }
      ]
    },
    {
      "cell_type": "code",
      "metadata": {
        "id": "QZqiXa4aSgrb",
        "colab_type": "code",
        "colab": {
          "base_uri": "https://localhost:8080/",
          "height": 428
        },
        "outputId": "a9d21557-24c0-4517-e6ad-c1f85cc4318d"
      },
      "source": [
        "# パラメータの分布をヒストグラムで可視化\n",
        "plt.figure(figsize=(10, 7))\n",
        "plt.bar(x=columns, height=model.coef_);"
      ],
      "execution_count": 16,
      "outputs": [
        {
          "output_type": "display_data",
          "data": {
            "image/png": "[encoded data removed]",
            "text/plain": [
              "<Figure size 720x504 with 1 Axes>"
            ]
          },
          "metadata": {
            "tags": [],
            "needs_background": "light"
          }
        }
      ]
    },
    {
      "cell_type": "code",
      "metadata": {
        "id": "dYhBZI0kSijM",
        "colab_type": "code",
        "colab": {
          "base_uri": "https://localhost:8080/",
          "height": 35
        },
        "outputId": "ae92f8f6-7bc7-4bba-e98a-6cba26face94"
      },
      "source": [
        "model.intercept_"
      ],
      "execution_count": 17,
      "outputs": [
        {
          "output_type": "execute_result",
          "data": {
            "text/plain": [
              "37.93710774183309"
            ]
          },
          "metadata": {
            "tags": []
          },
          "execution_count": 17
        }
      ]
    },
    {
      "cell_type": "code",
      "metadata": {
        "id": "fK41LqwKSkv1",
        "colab_type": "code",
        "colab": {
          "base_uri": "https://localhost:8080/",
          "height": 54
        },
        "outputId": "9fd871e6-b3b2-4a1f-eefe-26a8aaf0c666"
      },
      "source": [
        "# モデルの検証\n",
        "print('train score : ', model.score(x_train, t_train))\n",
        "print('test score : ', model.score(x_test, t_test))"
      ],
      "execution_count": 18,
      "outputs": [
        {
          "output_type": "stream",
          "text": [
            "train score :  0.7645451026942549\n",
            "test score :  0.6733825506400171\n"
          ],
          "name": "stdout"
        }
      ]
    },
    {
      "cell_type": "code",
      "metadata": {
        "id": "iTQXtfqHSnmJ",
        "colab_type": "code",
        "colab": {}
      },
      "source": [
        "# 推論\n",
        "y = model.predict(x_test)"
      ],
      "execution_count": 19,
      "outputs": []
    },
    {
      "cell_type": "code",
      "metadata": {
        "id": "qh5B2OS4SpVi",
        "colab_type": "code",
        "colab": {
          "base_uri": "https://localhost:8080/",
          "height": 54
        },
        "outputId": "8bc64487-bd2a-4e14-d6ce-427a95887676"
      },
      "source": [
        "\n",
        "print('予測値: ', y[0])\n",
        "print('目標値: ', t_test[0])"
      ],
      "execution_count": 21,
      "outputs": [
        {
          "output_type": "stream",
          "text": [
            "予測値:  24.935707898576915\n",
            "目標値:  22.6\n"
          ],
          "name": "stdout"
        }
      ]
    },
    {
      "cell_type": "markdown",
      "metadata": {
        "id": "QCghukKSSvWO",
        "colab_type": "text"
      },
      "source": [
        "# **Ridge回帰**\n",
        "Ridge 回帰は重回帰分析に対して重みの 2 乗で表現される L2L2 ノルムを用いて正則化を行うことで、モデルの過度な複雑さに罰則を課して過学習を抑制する手法"
      ]
    },
    {
      "cell_type": "code",
      "metadata": {
        "id": "N-PcVTB6Sqta",
        "colab_type": "code",
        "colab": {}
      },
      "source": [
        "# モデルの定義、ハイパーパラメータの値を設定\n",
        "from sklearn.linear_model import Ridge\n",
        "ridge = Ridge(alpha=1)"
      ],
      "execution_count": 22,
      "outputs": []
    },
    {
      "cell_type": "code",
      "metadata": {
        "id": "gBiFQNaLS5NE",
        "colab_type": "code",
        "colab": {
          "base_uri": "https://localhost:8080/",
          "height": 54
        },
        "outputId": "b939cc67-7c18-4b31-f43d-16bca5a950e2"
      },
      "source": [
        "# モデルの学習\n",
        "ridge.fit(x_train, t_train)"
      ],
      "execution_count": 24,
      "outputs": [
        {
          "output_type": "execute_result",
          "data": {
            "text/plain": [
              "Ridge(alpha=1, copy_X=True, fit_intercept=True, max_iter=None, normalize=False,\n",
              "      random_state=None, solver='auto', tol=0.001)"
            ]
          },
          "metadata": {
            "tags": []
          },
          "execution_count": 24
        }
      ]
    },
    {
      "cell_type": "code",
      "metadata": {
        "id": "N9NNwYqPS7YL",
        "colab_type": "code",
        "colab": {
          "base_uri": "https://localhost:8080/",
          "height": 54
        },
        "outputId": "2bf95814-dfbb-4baf-8e54-e5dfbbe26c7d"
      },
      "source": [
        "# モデルの検証\n",
        "print('train score : ', ridge.score(x_train, t_train))\n",
        "print('test score : ', ridge.score(x_test, t_test))"
      ],
      "execution_count": 25,
      "outputs": [
        {
          "output_type": "stream",
          "text": [
            "train score :  0.7623440182689594\n",
            "test score :  0.6665819091486688\n"
          ],
          "name": "stdout"
        }
      ]
    },
    {
      "cell_type": "code",
      "metadata": {
        "id": "LWbs5XJmS-hG",
        "colab_type": "code",
        "colab": {
          "base_uri": "https://localhost:8080/",
          "height": 607
        },
        "outputId": "75f6e5f9-d75c-488d-d175-7171e7fefd80"
      },
      "source": [
        "# 箱を準備\n",
        "fig = plt.figure(figsize=(7, 10))\n",
        "\n",
        "# 重回帰分析\n",
        "ax1 = fig.add_subplot(2, 1, 1)\n",
        "ax1.bar(x=columns, height=model.coef_)\n",
        "ax1.set_title('Linear Regression')\n",
        "\n",
        "# リッジ回帰\n",
        "ax2 = fig.add_subplot(2, 1, 2)\n",
        "ax2.bar(x=columns, height=ridge.coef_)\n",
        "ax2.set_title('Ridge Regression');"
      ],
      "execution_count": 26,
      "outputs": [
        {
          "output_type": "display_data",
          "data": {
            "image/png": "[encoded data removed]",
            "text/plain": [
              "<Figure size 504x720 with 2 Axes>"
            ]
          },
          "metadata": {
            "tags": [],
            "needs_background": "light"
          }
        }
      ]
    },
    {
      "cell_type": "code",
      "metadata": {
        "id": "O-OA1JpYTAkb",
        "colab_type": "code",
        "colab": {}
      },
      "source": [
        "# モデルの定義\n",
        "from sklearn.linear_model import Lasso\n",
        "lasso = Lasso(alpha=1)"
      ],
      "execution_count": 27,
      "outputs": []
    },
    {
      "cell_type": "code",
      "metadata": {
        "id": "zPYOUWYkTC1_",
        "colab_type": "code",
        "colab": {
          "base_uri": "https://localhost:8080/",
          "height": 72
        },
        "outputId": "12e1fd3e-a607-4488-ee16-a840b80f45c9"
      },
      "source": [
        "# モデルの学習\n",
        "lasso.fit(x_train, t_train)"
      ],
      "execution_count": 28,
      "outputs": [
        {
          "output_type": "execute_result",
          "data": {
            "text/plain": [
              "Lasso(alpha=1, copy_X=True, fit_intercept=True, max_iter=1000, normalize=False,\n",
              "      positive=False, precompute=False, random_state=None, selection='cyclic',\n",
              "      tol=0.0001, warm_start=False)"
            ]
          },
          "metadata": {
            "tags": []
          },
          "execution_count": 28
        }
      ]
    },
    {
      "cell_type": "code",
      "metadata": {
        "id": "9QvkV8XvTERn",
        "colab_type": "code",
        "colab": {
          "base_uri": "https://localhost:8080/",
          "height": 54
        },
        "outputId": "8be7a11a-b7d2-47aa-8902-179add7e2e31"
      },
      "source": [
        "# モデルの検証\n",
        "print('train score : ', lasso.score(x_train, t_train))\n",
        "print('test score : ', lasso.score(x_test, t_test))"
      ],
      "execution_count": 29,
      "outputs": [
        {
          "output_type": "stream",
          "text": [
            "train score :  0.7084095500978869\n",
            "test score :  0.6115433359595555\n"
          ],
          "name": "stdout"
        }
      ]
    },
    {
      "cell_type": "code",
      "metadata": {
        "id": "lyd75aMLTHCc",
        "colab_type": "code",
        "colab": {
          "base_uri": "https://localhost:8080/",
          "height": 52
        },
        "outputId": "e3147046-fba0-4bd6-c3e0-91930d075ebd"
      },
      "source": [
        "# 0 になっていない特徴量の数\n",
        "print('元の特徴量の数 : ', x.shape[1])\n",
        "print('Lasso の特徴量 : ', np.sum(lasso.coef_ != 0))"
      ],
      "execution_count": 30,
      "outputs": [
        {
          "output_type": "stream",
          "text": [
            "元の特徴量の数 :  13\n",
            "Lasso の特徴量 :  10\n"
          ],
          "name": "stdout"
        }
      ]
    },
    {
      "cell_type": "code",
      "metadata": {
        "id": "Jxyv4dsSTIh_",
        "colab_type": "code",
        "colab": {
          "base_uri": "https://localhost:8080/",
          "height": 54
        },
        "outputId": "dd06e9d9-0d6a-4486-e1c4-f0b911270a8d"
      },
      "source": [
        "# アルファを変更してみる\n",
        "lasso_005 = Lasso(alpha=0.05)\n",
        "lasso_005.fit(x_train, t_train)\n",
        "\n",
        "print('train score : ', lasso_005.score(x_train, t_train))\n",
        "print('test score : ', lasso_005.score(x_test, t_test))"
      ],
      "execution_count": 31,
      "outputs": [
        {
          "output_type": "stream",
          "text": [
            "train score :  0.7548928631432029\n",
            "test score :  0.6541502573235292\n"
          ],
          "name": "stdout"
        }
      ]
    },
    {
      "cell_type": "code",
      "metadata": {
        "id": "GarsWwcDTKLb",
        "colab_type": "code",
        "colab": {
          "base_uri": "https://localhost:8080/",
          "height": 54
        },
        "outputId": "9c1cece4-42bb-49fb-dfee-11cf47b7cf86"
      },
      "source": [
        "# 0 になっていない特徴量の数\n",
        "print('元の特徴量の数 : ', x.shape[1])\n",
        "print('Lasso005 の特徴量 : ', np.sum(lasso_005.coef_ != 0))"
      ],
      "execution_count": 32,
      "outputs": [
        {
          "output_type": "stream",
          "text": [
            "元の特徴量の数 :  13\n",
            "Lasso005 の特徴量 :  12\n"
          ],
          "name": "stdout"
        }
      ]
    },
    {
      "cell_type": "code",
      "metadata": {
        "id": "P1N4J3fFTMG9",
        "colab_type": "code",
        "colab": {
          "base_uri": "https://localhost:8080/",
          "height": 879
        },
        "outputId": "2a9b1efa-6da2-4c00-e35b-8ab92e1fcbc1"
      },
      "source": [
        "fig = plt.figure(figsize=(7, 15))\n",
        "\n",
        "# 重回帰分析\n",
        "ax1 = fig.add_subplot(3, 1, 1)\n",
        "ax1.bar(x=columns, height=model.coef_)\n",
        "ax1.set_title('Linear Regression')\n",
        "\n",
        "# lasso\n",
        "ax2 = fig.add_subplot(3, 1, 2)\n",
        "ax2.bar(x=columns, height=lasso.coef_)\n",
        "ax2.set_title('Lasso Regression 1')\n",
        "\n",
        "# lasso_005\n",
        "ax3 = fig.add_subplot(3, 1, 3)\n",
        "ax3.bar(x=columns, height=lasso_005.coef_)\n",
        "ax3.set_title('Lasso Regression 0.05');"
      ],
      "execution_count": 33,
      "outputs": [
        {
          "output_type": "display_data",
          "data": {
            "image/png": "[encoded data removed]",
            "text/plain": [
              "<Figure size 504x1080 with 3 Axes>"
            ]
          },
          "metadata": {
            "tags": [],
            "needs_background": "light"
          }
        }
      ]
    },
    {
      "cell_type": "markdown",
      "metadata": {
        "id": "O5e0Iz96TQqO",
        "colab_type": "text"
      },
      "source": [
        "# **相関関係と多重共線性問題**"
      ]
    },
    {
      "cell_type": "code",
      "metadata": {
        "id": "36AXG4MOTOrJ",
        "colab_type": "code",
        "colab": {
          "base_uri": "https://localhost:8080/",
          "height": 187
        },
        "outputId": "f72eeb85-43bf-4b8c-f43b-eaee61d29f67"
      },
      "source": [
        "df = pd.read_csv('regression_pls.csv')\n",
        "df.head(3)"
      ],
      "execution_count": 36,
      "outputs": [
        {
          "output_type": "execute_result",
          "data": {
            "text/html": [
              "<div>\n",
              "<style scoped>\n",
              "    .dataframe tbody tr th:only-of-type {\n",
              "        vertical-align: middle;\n",
              "    }\n",
              "\n",
              "    .dataframe tbody tr th {\n",
              "        vertical-align: top;\n",
              "    }\n",
              "\n",
              "    .dataframe thead th {\n",
              "        text-align: right;\n",
              "    }\n",
              "</style>\n",
              "<table border=\"1\" class=\"dataframe\">\n",
              "  <thead>\n",
              "    <tr style=\"text-align: right;\">\n",
              "      <th></th>\n",
              "      <th>Target</th>\n",
              "      <th>x1</th>\n",
              "      <th>x2</th>\n",
              "      <th>x3</th>\n",
              "      <th>x4</th>\n",
              "      <th>x5</th>\n",
              "      <th>x6</th>\n",
              "      <th>x7</th>\n",
              "      <th>x8</th>\n",
              "      <th>x9</th>\n",
              "      <th>x10</th>\n",
              "      <th>x11</th>\n",
              "      <th>x12</th>\n",
              "      <th>x13</th>\n",
              "      <th>x14</th>\n",
              "      <th>x15</th>\n",
              "      <th>x16</th>\n",
              "      <th>x17</th>\n",
              "      <th>x18</th>\n",
              "      <th>x19</th>\n",
              "      <th>x20</th>\n",
              "      <th>x21</th>\n",
              "      <th>x22</th>\n",
              "      <th>x23</th>\n",
              "      <th>x24</th>\n",
              "      <th>x25</th>\n",
              "      <th>x26</th>\n",
              "      <th>x27</th>\n",
              "      <th>x28</th>\n",
              "      <th>x29</th>\n",
              "      <th>x30</th>\n",
              "      <th>x31</th>\n",
              "      <th>x32</th>\n",
              "      <th>x33</th>\n",
              "      <th>x34</th>\n",
              "      <th>x35</th>\n",
              "      <th>x36</th>\n",
              "      <th>x37</th>\n",
              "      <th>x38</th>\n",
              "      <th>x39</th>\n",
              "      <th>...</th>\n",
              "      <th>x157</th>\n",
              "      <th>x158</th>\n",
              "      <th>x159</th>\n",
              "      <th>x160</th>\n",
              "      <th>x161</th>\n",
              "      <th>x162</th>\n",
              "      <th>x163</th>\n",
              "      <th>x164</th>\n",
              "      <th>x165</th>\n",
              "      <th>x166</th>\n",
              "      <th>x167</th>\n",
              "      <th>x168</th>\n",
              "      <th>x169</th>\n",
              "      <th>x170</th>\n",
              "      <th>x171</th>\n",
              "      <th>x172</th>\n",
              "      <th>x173</th>\n",
              "      <th>x174</th>\n",
              "      <th>x175</th>\n",
              "      <th>x176</th>\n",
              "      <th>x177</th>\n",
              "      <th>x178</th>\n",
              "      <th>x179</th>\n",
              "      <th>x180</th>\n",
              "      <th>x181</th>\n",
              "      <th>x182</th>\n",
              "      <th>x183</th>\n",
              "      <th>x184</th>\n",
              "      <th>x185</th>\n",
              "      <th>x186</th>\n",
              "      <th>x187</th>\n",
              "      <th>x188</th>\n",
              "      <th>x189</th>\n",
              "      <th>x190</th>\n",
              "      <th>x191</th>\n",
              "      <th>x192</th>\n",
              "      <th>x193</th>\n",
              "      <th>x194</th>\n",
              "      <th>x195</th>\n",
              "      <th>x196</th>\n",
              "    </tr>\n",
              "  </thead>\n",
              "  <tbody>\n",
              "    <tr>\n",
              "      <th>0</th>\n",
              "      <td>1.58</td>\n",
              "      <td>59.068</td>\n",
              "      <td>54.028</td>\n",
              "      <td>59.037114</td>\n",
              "      <td>24</td>\n",
              "      <td>0</td>\n",
              "      <td>0.213790</td>\n",
              "      <td>-0.369921</td>\n",
              "      <td>0.369921</td>\n",
              "      <td>0.213790</td>\n",
              "      <td>9.222222</td>\n",
              "      <td>-0.333333</td>\n",
              "      <td>9.222222</td>\n",
              "      <td>0.333333</td>\n",
              "      <td>2.803039</td>\n",
              "      <td>29.019550</td>\n",
              "      <td>3.577350</td>\n",
              "      <td>2.485599</td>\n",
              "      <td>2.485599</td>\n",
              "      <td>1.732051</td>\n",
              "      <td>0.992799</td>\n",
              "      <td>0.992799</td>\n",
              "      <td>0.610650</td>\n",
              "      <td>0.610650</td>\n",
              "      <td>0.0</td>\n",
              "      <td>0.0</td>\n",
              "      <td>0.0</td>\n",
              "      <td>0.0</td>\n",
              "      <td>-0.53</td>\n",
              "      <td>3.245112</td>\n",
              "      <td>3.47</td>\n",
              "      <td>0.874858</td>\n",
              "      <td>1.156009</td>\n",
              "      <td>24.605606</td>\n",
              "      <td>5.733667</td>\n",
              "      <td>0.0</td>\n",
              "      <td>0.0</td>\n",
              "      <td>5.90718</td>\n",
              "      <td>0.000000</td>\n",
              "      <td>0.0</td>\n",
              "      <td>...</td>\n",
              "      <td>0</td>\n",
              "      <td>0</td>\n",
              "      <td>0</td>\n",
              "      <td>0</td>\n",
              "      <td>0</td>\n",
              "      <td>0</td>\n",
              "      <td>0</td>\n",
              "      <td>0</td>\n",
              "      <td>0</td>\n",
              "      <td>0</td>\n",
              "      <td>0</td>\n",
              "      <td>0</td>\n",
              "      <td>0</td>\n",
              "      <td>0</td>\n",
              "      <td>0</td>\n",
              "      <td>0</td>\n",
              "      <td>0</td>\n",
              "      <td>0</td>\n",
              "      <td>0</td>\n",
              "      <td>0</td>\n",
              "      <td>0</td>\n",
              "      <td>0</td>\n",
              "      <td>0</td>\n",
              "      <td>0</td>\n",
              "      <td>0</td>\n",
              "      <td>0</td>\n",
              "      <td>1</td>\n",
              "      <td>0</td>\n",
              "      <td>0</td>\n",
              "      <td>0</td>\n",
              "      <td>0</td>\n",
              "      <td>0</td>\n",
              "      <td>0</td>\n",
              "      <td>0</td>\n",
              "      <td>0</td>\n",
              "      <td>0</td>\n",
              "      <td>0</td>\n",
              "      <td>0</td>\n",
              "      <td>0</td>\n",
              "      <td>0</td>\n",
              "    </tr>\n",
              "    <tr>\n",
              "      <th>1</th>\n",
              "      <td>1.34</td>\n",
              "      <td>46.073</td>\n",
              "      <td>40.025</td>\n",
              "      <td>46.053098</td>\n",
              "      <td>20</td>\n",
              "      <td>0</td>\n",
              "      <td>-0.001725</td>\n",
              "      <td>-0.271722</td>\n",
              "      <td>0.271722</td>\n",
              "      <td>0.001725</td>\n",
              "      <td>4.597222</td>\n",
              "      <td>1.652778</td>\n",
              "      <td>4.597222</td>\n",
              "      <td>1.652778</td>\n",
              "      <td>1.632993</td>\n",
              "      <td>2.754888</td>\n",
              "      <td>2.707107</td>\n",
              "      <td>2.077350</td>\n",
              "      <td>2.077350</td>\n",
              "      <td>1.414214</td>\n",
              "      <td>0.788675</td>\n",
              "      <td>0.788675</td>\n",
              "      <td>0.288675</td>\n",
              "      <td>0.288675</td>\n",
              "      <td>0.0</td>\n",
              "      <td>0.0</td>\n",
              "      <td>0.0</td>\n",
              "      <td>0.0</td>\n",
              "      <td>-0.08</td>\n",
              "      <td>2.754888</td>\n",
              "      <td>2.92</td>\n",
              "      <td>1.920000</td>\n",
              "      <td>1.920000</td>\n",
              "      <td>19.599140</td>\n",
              "      <td>0.000000</td>\n",
              "      <td>0.0</td>\n",
              "      <td>0.0</td>\n",
              "      <td>0.00000</td>\n",
              "      <td>0.000000</td>\n",
              "      <td>0.0</td>\n",
              "      <td>...</td>\n",
              "      <td>1</td>\n",
              "      <td>0</td>\n",
              "      <td>0</td>\n",
              "      <td>0</td>\n",
              "      <td>0</td>\n",
              "      <td>0</td>\n",
              "      <td>0</td>\n",
              "      <td>0</td>\n",
              "      <td>0</td>\n",
              "      <td>0</td>\n",
              "      <td>0</td>\n",
              "      <td>0</td>\n",
              "      <td>0</td>\n",
              "      <td>0</td>\n",
              "      <td>0</td>\n",
              "      <td>0</td>\n",
              "      <td>0</td>\n",
              "      <td>0</td>\n",
              "      <td>0</td>\n",
              "      <td>0</td>\n",
              "      <td>0</td>\n",
              "      <td>0</td>\n",
              "      <td>0</td>\n",
              "      <td>0</td>\n",
              "      <td>0</td>\n",
              "      <td>0</td>\n",
              "      <td>0</td>\n",
              "      <td>0</td>\n",
              "      <td>0</td>\n",
              "      <td>0</td>\n",
              "      <td>0</td>\n",
              "      <td>0</td>\n",
              "      <td>0</td>\n",
              "      <td>0</td>\n",
              "      <td>0</td>\n",
              "      <td>0</td>\n",
              "      <td>0</td>\n",
              "      <td>0</td>\n",
              "      <td>0</td>\n",
              "      <td>0</td>\n",
              "    </tr>\n",
              "    <tr>\n",
              "      <th>2</th>\n",
              "      <td>1.22</td>\n",
              "      <td>60.052</td>\n",
              "      <td>56.020</td>\n",
              "      <td>60.021129</td>\n",
              "      <td>24</td>\n",
              "      <td>0</td>\n",
              "      <td>0.299685</td>\n",
              "      <td>-0.481433</td>\n",
              "      <td>0.481433</td>\n",
              "      <td>0.299685</td>\n",
              "      <td>9.000000</td>\n",
              "      <td>-0.833333</td>\n",
              "      <td>9.000000</td>\n",
              "      <td>0.833333</td>\n",
              "      <td>2.803039</td>\n",
              "      <td>27.019550</td>\n",
              "      <td>3.577350</td>\n",
              "      <td>2.355462</td>\n",
              "      <td>2.355462</td>\n",
              "      <td>1.732051</td>\n",
              "      <td>0.927731</td>\n",
              "      <td>0.927731</td>\n",
              "      <td>0.519018</td>\n",
              "      <td>0.519018</td>\n",
              "      <td>0.0</td>\n",
              "      <td>0.0</td>\n",
              "      <td>0.0</td>\n",
              "      <td>0.0</td>\n",
              "      <td>-0.53</td>\n",
              "      <td>3.245112</td>\n",
              "      <td>3.47</td>\n",
              "      <td>0.874858</td>\n",
              "      <td>1.156009</td>\n",
              "      <td>24.059949</td>\n",
              "      <td>5.106527</td>\n",
              "      <td>0.0</td>\n",
              "      <td>0.0</td>\n",
              "      <td>0.00000</td>\n",
              "      <td>5.969305</td>\n",
              "      <td>0.0</td>\n",
              "      <td>...</td>\n",
              "      <td>0</td>\n",
              "      <td>0</td>\n",
              "      <td>0</td>\n",
              "      <td>0</td>\n",
              "      <td>0</td>\n",
              "      <td>0</td>\n",
              "      <td>0</td>\n",
              "      <td>0</td>\n",
              "      <td>0</td>\n",
              "      <td>0</td>\n",
              "      <td>0</td>\n",
              "      <td>0</td>\n",
              "      <td>0</td>\n",
              "      <td>0</td>\n",
              "      <td>0</td>\n",
              "      <td>0</td>\n",
              "      <td>0</td>\n",
              "      <td>0</td>\n",
              "      <td>0</td>\n",
              "      <td>0</td>\n",
              "      <td>0</td>\n",
              "      <td>0</td>\n",
              "      <td>0</td>\n",
              "      <td>0</td>\n",
              "      <td>0</td>\n",
              "      <td>0</td>\n",
              "      <td>0</td>\n",
              "      <td>0</td>\n",
              "      <td>0</td>\n",
              "      <td>0</td>\n",
              "      <td>0</td>\n",
              "      <td>0</td>\n",
              "      <td>0</td>\n",
              "      <td>0</td>\n",
              "      <td>0</td>\n",
              "      <td>0</td>\n",
              "      <td>0</td>\n",
              "      <td>0</td>\n",
              "      <td>0</td>\n",
              "      <td>0</td>\n",
              "    </tr>\n",
              "  </tbody>\n",
              "</table>\n",
              "<p>3 rows × 197 columns</p>\n",
              "</div>"
            ],
            "text/plain": [
              "   Target      x1      x2         x3  x4  ...  x192  x193  x194  x195  x196\n",
              "0    1.58  59.068  54.028  59.037114  24  ...     0     0     0     0     0\n",
              "1    1.34  46.073  40.025  46.053098  20  ...     0     0     0     0     0\n",
              "2    1.22  60.052  56.020  60.021129  24  ...     0     0     0     0     0\n",
              "\n",
              "[3 rows x 197 columns]"
            ]
          },
          "metadata": {
            "tags": []
          },
          "execution_count": 36
        }
      ]
    },
    {
      "cell_type": "code",
      "metadata": {
        "id": "aRmhsHx6T0XP",
        "colab_type": "code",
        "colab": {
          "base_uri": "https://localhost:8080/",
          "height": 35
        },
        "outputId": "cc0ffefd-8be2-42ce-db39-f802aa59eb53"
      },
      "source": [
        "df.shape"
      ],
      "execution_count": 37,
      "outputs": [
        {
          "output_type": "execute_result",
          "data": {
            "text/plain": [
              "(1290, 197)"
            ]
          },
          "metadata": {
            "tags": []
          },
          "execution_count": 37
        }
      ]
    },
    {
      "cell_type": "code",
      "metadata": {
        "id": "rzLeieQIT4V8",
        "colab_type": "code",
        "colab": {}
      },
      "source": [
        ""
      ],
      "execution_count": null,
      "outputs": []
    }
  ]
}